{
 "cells": [
  {
   "cell_type": "code",
   "execution_count": 1,
   "id": "9be00749",
   "metadata": {
    "scrolled": true
   },
   "outputs": [
    {
     "name": "stdout",
     "output_type": "stream",
     "text": [
      "Shape of train full merged dataset is:  (7377418, 37)\n"
     ]
    }
   ],
   "source": [
    "# Navarro, Aaron Christian\n",
    "# COMP 542 Section # 17019\n",
    "# Project Model Training and Results \n",
    "# Binary Classification for song/music recommendation prediction  \n",
    "import os\n",
    "import numpy as np\n",
    "import pandas as pd\n",
    "import seaborn as sns\n",
    "import matplotlib.pyplot as plt\n",
    "from sklearn.preprocessing import StandardScaler, LabelEncoder  \n",
    "from sklearn.model_selection import GridSearchCV, train_test_split\n",
    "from sklearn.ensemble import RandomForestClassifier\n",
    "from sklearn import tree\n",
    "from sklearn.metrics import roc_auc_score, roc_curve, auc, accuracy_score, classification_report, confusion_matrix\n",
    "import time\n",
    "\n",
    "# root path for all data files \n",
    "data_path = \"C:/Users/Aaron/Downloads/KKBOXMusicReccommenderSystem\"\n",
    "\n",
    "# target of 1 means that there are recurring listening event(s) trigerred within a month after the user's \n",
    "# very first observable listening event. targer of 0 otherwise\n",
    "full_csv_path = os.path.join(data_path,\"train_full_merged_set.csv\")\n",
    "\n",
    "# read all datasets into dataframes\n",
    "full_merged_set = pd.read_csv(full_csv_path)\n",
    "\n",
    "# shapes and features of each data set \n",
    "print('Shape of train full merged dataset is: ', full_merged_set.shape)"
   ]
  },
  {
   "cell_type": "code",
   "execution_count": 2,
   "id": "bd43e77e",
   "metadata": {},
   "outputs": [
    {
     "data": {
      "text/html": [
       "<div>\n",
       "<style scoped>\n",
       "    .dataframe tbody tr th:only-of-type {\n",
       "        vertical-align: middle;\n",
       "    }\n",
       "\n",
       "    .dataframe tbody tr th {\n",
       "        vertical-align: top;\n",
       "    }\n",
       "\n",
       "    .dataframe thead th {\n",
       "        text-align: right;\n",
       "    }\n",
       "</style>\n",
       "<table border=\"1\" class=\"dataframe\">\n",
       "  <thead>\n",
       "    <tr style=\"text-align: right;\">\n",
       "      <th></th>\n",
       "      <th>msno</th>\n",
       "      <th>song_id</th>\n",
       "      <th>source_system_tab</th>\n",
       "      <th>source_screen_name</th>\n",
       "      <th>source_type</th>\n",
       "      <th>target</th>\n",
       "      <th>city</th>\n",
       "      <th>bd</th>\n",
       "      <th>gender</th>\n",
       "      <th>registered_via</th>\n",
       "      <th>...</th>\n",
       "      <th>isrc_missing</th>\n",
       "      <th>artist_count</th>\n",
       "      <th>first_artist_name</th>\n",
       "      <th>is_featured</th>\n",
       "      <th>member_song_count</th>\n",
       "      <th>artist_song_count</th>\n",
       "      <th>genre_song_count</th>\n",
       "      <th>lang_song_count</th>\n",
       "      <th>song_member_count</th>\n",
       "      <th>age_song_count</th>\n",
       "    </tr>\n",
       "  </thead>\n",
       "  <tbody>\n",
       "    <tr>\n",
       "      <th>0</th>\n",
       "      <td>FGtllVqz18RPiwJj/edr2gV78zirAiY/9SmYvia+kCg=</td>\n",
       "      <td>BBzumQNXUHKdEBOB7mAJuzok+IJA1c2Ryg/yzTF6tik=</td>\n",
       "      <td>explore</td>\n",
       "      <td>Explore</td>\n",
       "      <td>online-playlist</td>\n",
       "      <td>1</td>\n",
       "      <td>1</td>\n",
       "      <td>0</td>\n",
       "      <td>missing_gender</td>\n",
       "      <td>7</td>\n",
       "      <td>...</td>\n",
       "      <td>0.0</td>\n",
       "      <td>1</td>\n",
       "      <td>Bastille</td>\n",
       "      <td>0</td>\n",
       "      <td>5511</td>\n",
       "      <td>1140</td>\n",
       "      <td>109507</td>\n",
       "      <td>1864413</td>\n",
       "      <td>215</td>\n",
       "      <td>2940499</td>\n",
       "    </tr>\n",
       "    <tr>\n",
       "      <th>1</th>\n",
       "      <td>Xumu+NIjS6QYVxDS4/t3SawvJ7viT9hPKXmf0RtLNx8=</td>\n",
       "      <td>bhp/MpSNoqoxOIB+/l8WPqu6jldth4DIpCm3ayXnJqM=</td>\n",
       "      <td>my library</td>\n",
       "      <td>Local playlist more</td>\n",
       "      <td>local-playlist</td>\n",
       "      <td>1</td>\n",
       "      <td>13</td>\n",
       "      <td>24</td>\n",
       "      <td>female</td>\n",
       "      <td>9</td>\n",
       "      <td>...</td>\n",
       "      <td>0.0</td>\n",
       "      <td>1</td>\n",
       "      <td>Various Artists</td>\n",
       "      <td>0</td>\n",
       "      <td>622</td>\n",
       "      <td>303506</td>\n",
       "      <td>182072</td>\n",
       "      <td>1864413</td>\n",
       "      <td>1</td>\n",
       "      <td>258688</td>\n",
       "    </tr>\n",
       "    <tr>\n",
       "      <th>2</th>\n",
       "      <td>Xumu+NIjS6QYVxDS4/t3SawvJ7viT9hPKXmf0RtLNx8=</td>\n",
       "      <td>JNWfrrC7zNN7BdMpsISKa4Mw+xVJYNnxXh3/Epw7QgY=</td>\n",
       "      <td>my library</td>\n",
       "      <td>Local playlist more</td>\n",
       "      <td>local-playlist</td>\n",
       "      <td>1</td>\n",
       "      <td>13</td>\n",
       "      <td>24</td>\n",
       "      <td>female</td>\n",
       "      <td>9</td>\n",
       "      <td>...</td>\n",
       "      <td>0.0</td>\n",
       "      <td>1</td>\n",
       "      <td>Nas</td>\n",
       "      <td>0</td>\n",
       "      <td>622</td>\n",
       "      <td>289</td>\n",
       "      <td>182072</td>\n",
       "      <td>1864413</td>\n",
       "      <td>4</td>\n",
       "      <td>258688</td>\n",
       "    </tr>\n",
       "    <tr>\n",
       "      <th>3</th>\n",
       "      <td>Xumu+NIjS6QYVxDS4/t3SawvJ7viT9hPKXmf0RtLNx8=</td>\n",
       "      <td>2A87tzfnJTSWqD7gIZHisolhe4DMdzkbd6LzO1KHjNs=</td>\n",
       "      <td>my library</td>\n",
       "      <td>Local playlist more</td>\n",
       "      <td>local-playlist</td>\n",
       "      <td>1</td>\n",
       "      <td>13</td>\n",
       "      <td>24</td>\n",
       "      <td>female</td>\n",
       "      <td>9</td>\n",
       "      <td>...</td>\n",
       "      <td>0.0</td>\n",
       "      <td>1</td>\n",
       "      <td>Soundway</td>\n",
       "      <td>0</td>\n",
       "      <td>622</td>\n",
       "      <td>1</td>\n",
       "      <td>39</td>\n",
       "      <td>308497</td>\n",
       "      <td>1</td>\n",
       "      <td>258688</td>\n",
       "    </tr>\n",
       "    <tr>\n",
       "      <th>4</th>\n",
       "      <td>FGtllVqz18RPiwJj/edr2gV78zirAiY/9SmYvia+kCg=</td>\n",
       "      <td>3qm6XTZ6MOCU11x8FIVbAGH5l5uMkT3/ZalWG1oo2Gc=</td>\n",
       "      <td>explore</td>\n",
       "      <td>Explore</td>\n",
       "      <td>online-playlist</td>\n",
       "      <td>1</td>\n",
       "      <td>1</td>\n",
       "      <td>0</td>\n",
       "      <td>missing_gender</td>\n",
       "      <td>7</td>\n",
       "      <td>...</td>\n",
       "      <td>0.0</td>\n",
       "      <td>1</td>\n",
       "      <td>Brett Young</td>\n",
       "      <td>0</td>\n",
       "      <td>5511</td>\n",
       "      <td>427</td>\n",
       "      <td>33568</td>\n",
       "      <td>1864413</td>\n",
       "      <td>412</td>\n",
       "      <td>2940499</td>\n",
       "    </tr>\n",
       "  </tbody>\n",
       "</table>\n",
       "<p>5 rows × 37 columns</p>\n",
       "</div>"
      ],
      "text/plain": [
       "                                           msno  \\\n",
       "0  FGtllVqz18RPiwJj/edr2gV78zirAiY/9SmYvia+kCg=   \n",
       "1  Xumu+NIjS6QYVxDS4/t3SawvJ7viT9hPKXmf0RtLNx8=   \n",
       "2  Xumu+NIjS6QYVxDS4/t3SawvJ7viT9hPKXmf0RtLNx8=   \n",
       "3  Xumu+NIjS6QYVxDS4/t3SawvJ7viT9hPKXmf0RtLNx8=   \n",
       "4  FGtllVqz18RPiwJj/edr2gV78zirAiY/9SmYvia+kCg=   \n",
       "\n",
       "                                        song_id source_system_tab  \\\n",
       "0  BBzumQNXUHKdEBOB7mAJuzok+IJA1c2Ryg/yzTF6tik=           explore   \n",
       "1  bhp/MpSNoqoxOIB+/l8WPqu6jldth4DIpCm3ayXnJqM=        my library   \n",
       "2  JNWfrrC7zNN7BdMpsISKa4Mw+xVJYNnxXh3/Epw7QgY=        my library   \n",
       "3  2A87tzfnJTSWqD7gIZHisolhe4DMdzkbd6LzO1KHjNs=        my library   \n",
       "4  3qm6XTZ6MOCU11x8FIVbAGH5l5uMkT3/ZalWG1oo2Gc=           explore   \n",
       "\n",
       "    source_screen_name      source_type  target  city  bd          gender  \\\n",
       "0              Explore  online-playlist       1     1   0  missing_gender   \n",
       "1  Local playlist more   local-playlist       1    13  24          female   \n",
       "2  Local playlist more   local-playlist       1    13  24          female   \n",
       "3  Local playlist more   local-playlist       1    13  24          female   \n",
       "4              Explore  online-playlist       1     1   0  missing_gender   \n",
       "\n",
       "   registered_via  ...  isrc_missing  artist_count first_artist_name  \\\n",
       "0               7  ...           0.0             1          Bastille   \n",
       "1               9  ...           0.0             1   Various Artists   \n",
       "2               9  ...           0.0             1               Nas   \n",
       "3               9  ...           0.0             1          Soundway   \n",
       "4               7  ...           0.0             1       Brett Young   \n",
       "\n",
       "   is_featured  member_song_count  artist_song_count  genre_song_count  \\\n",
       "0            0               5511               1140            109507   \n",
       "1            0                622             303506            182072   \n",
       "2            0                622                289            182072   \n",
       "3            0                622                  1                39   \n",
       "4            0               5511                427             33568   \n",
       "\n",
       "   lang_song_count  song_member_count  age_song_count  \n",
       "0          1864413                215         2940499  \n",
       "1          1864413                  1          258688  \n",
       "2          1864413                  4          258688  \n",
       "3           308497                  1          258688  \n",
       "4          1864413                412         2940499  \n",
       "\n",
       "[5 rows x 37 columns]"
      ]
     },
     "execution_count": 2,
     "metadata": {},
     "output_type": "execute_result"
    }
   ],
   "source": [
    "full_merged_set.head()"
   ]
  },
  {
   "cell_type": "code",
   "execution_count": 3,
   "id": "427ccbb3",
   "metadata": {},
   "outputs": [
    {
     "name": "stdout",
     "output_type": "stream",
     "text": [
      "<class 'pandas.core.frame.DataFrame'>\n",
      "RangeIndex: 7377418 entries, 0 to 7377417\n",
      "Data columns (total 37 columns):\n",
      " #   Column              Dtype  \n",
      "---  ------              -----  \n",
      " 0   msno                object \n",
      " 1   song_id             object \n",
      " 2   source_system_tab   object \n",
      " 3   source_screen_name  object \n",
      " 4   source_type         object \n",
      " 5   target              int64  \n",
      " 6   city                int64  \n",
      " 7   bd                  int64  \n",
      " 8   gender              object \n",
      " 9   registered_via      int64  \n",
      " 10  song_length         float64\n",
      " 11  language            float64\n",
      " 12  name                object \n",
      " 13  membership_days     int64  \n",
      " 14  registration_year   int64  \n",
      " 15  registration_month  int64  \n",
      " 16  registration_day    int64  \n",
      " 17  expiration_year     int64  \n",
      " 18  expiration_month    int64  \n",
      " 19  expiration_day      int64  \n",
      " 20  first_genre_id      float64\n",
      " 21  second_genre_id     float64\n",
      " 22  third_genre_id      float64\n",
      " 23  genre_ids_count     float64\n",
      " 24  song_year           object \n",
      " 25  country_code        object \n",
      " 26  registration_code   object \n",
      " 27  isrc_missing        float64\n",
      " 28  artist_count        int64  \n",
      " 29  first_artist_name   object \n",
      " 30  is_featured         int64  \n",
      " 31  member_song_count   int64  \n",
      " 32  artist_song_count   int64  \n",
      " 33  genre_song_count    int64  \n",
      " 34  lang_song_count     int64  \n",
      " 35  song_member_count   int64  \n",
      " 36  age_song_count      int64  \n",
      "dtypes: float64(7), int64(19), object(11)\n",
      "memory usage: 2.0+ GB\n"
     ]
    }
   ],
   "source": [
    "full_merged_set.info()"
   ]
  },
  {
   "cell_type": "code",
   "execution_count": 4,
   "id": "e47e5e3b",
   "metadata": {},
   "outputs": [
    {
     "data": {
      "text/plain": [
       "msno                  False\n",
       "song_id               False\n",
       "source_system_tab     False\n",
       "source_screen_name    False\n",
       "source_type           False\n",
       "target                False\n",
       "city                  False\n",
       "bd                    False\n",
       "gender                False\n",
       "registered_via        False\n",
       "song_length           False\n",
       "language              False\n",
       "name                  False\n",
       "membership_days       False\n",
       "registration_year     False\n",
       "registration_month    False\n",
       "registration_day      False\n",
       "expiration_year       False\n",
       "expiration_month      False\n",
       "expiration_day        False\n",
       "first_genre_id        False\n",
       "second_genre_id       False\n",
       "third_genre_id        False\n",
       "genre_ids_count       False\n",
       "song_year             False\n",
       "country_code          False\n",
       "registration_code     False\n",
       "isrc_missing          False\n",
       "artist_count          False\n",
       "first_artist_name      True\n",
       "is_featured           False\n",
       "member_song_count     False\n",
       "artist_song_count     False\n",
       "genre_song_count      False\n",
       "lang_song_count       False\n",
       "song_member_count     False\n",
       "age_song_count        False\n",
       "dtype: bool"
      ]
     },
     "execution_count": 4,
     "metadata": {},
     "output_type": "execute_result"
    }
   ],
   "source": [
    "full_merged_set.isnull().any()"
   ]
  },
  {
   "cell_type": "code",
   "execution_count": 5,
   "id": "3db8b2b8",
   "metadata": {},
   "outputs": [],
   "source": [
    "# give a missing value where there is no first_artist_name\n",
    "full_merged_set['first_artist_name'].fillna('no_artist_name', inplace=True)"
   ]
  },
  {
   "cell_type": "code",
   "execution_count": 6,
   "id": "823a9539",
   "metadata": {},
   "outputs": [],
   "source": [
    "# convert language values into string datatype\n",
    "full_merged_set['language'] = full_merged_set['language'].apply(lambda x: str(x))"
   ]
  },
  {
   "cell_type": "code",
   "execution_count": 7,
   "id": "e35fb356",
   "metadata": {},
   "outputs": [
    {
     "name": "stdout",
     "output_type": "stream",
     "text": [
      "Categorical Columns\n",
      "{'first_artist_name', 'source_type', 'country_code', 'source_system_tab', 'song_year', 'msno', 'source_screen_name', 'language', 'name', 'registration_code', 'song_id', 'gender'}\n",
      "Numerical Columns\n",
      "Index(['target', 'city', 'bd', 'registered_via', 'song_length',\n",
      "       'membership_days', 'registration_year', 'registration_month',\n",
      "       'registration_day', 'expiration_year', 'expiration_month',\n",
      "       'expiration_day', 'first_genre_id', 'second_genre_id', 'third_genre_id',\n",
      "       'genre_ids_count', 'isrc_missing', 'artist_count', 'is_featured',\n",
      "       'member_song_count', 'artist_song_count', 'genre_song_count',\n",
      "       'lang_song_count', 'song_member_count', 'age_song_count'],\n",
      "      dtype='object')\n"
     ]
    }
   ],
   "source": [
    "# now preprocess data sets\n",
    "# label encoding for converting categorical features\n",
    "# standardization to scale numeric features ==> values between (0,1)\n",
    "\n",
    "all_columns = full_merged_set.columns\n",
    "numerical_columns = full_merged_set._get_numeric_data().columns\n",
    "categorical_columns = (set(all_columns) - set(numerical_columns))\n",
    "\n",
    "print(\"Categorical Columns\")\n",
    "print(categorical_columns)\n",
    "print(\"Numerical Columns\")\n",
    "print(numerical_columns)"
   ]
  },
  {
   "cell_type": "code",
   "execution_count": 8,
   "id": "d79c7c64",
   "metadata": {},
   "outputs": [
    {
     "name": "stdout",
     "output_type": "stream",
     "text": [
      "Index(['city', 'bd', 'registered_via', 'song_length', 'membership_days',\n",
      "       'registration_year', 'registration_month', 'registration_day',\n",
      "       'expiration_year', 'expiration_month', 'expiration_day',\n",
      "       'first_genre_id', 'second_genre_id', 'third_genre_id',\n",
      "       'genre_ids_count', 'isrc_missing', 'artist_count', 'is_featured',\n",
      "       'member_song_count', 'artist_song_count', 'genre_song_count',\n",
      "       'lang_song_count', 'song_member_count', 'age_song_count'],\n",
      "      dtype='object')\n"
     ]
    }
   ],
   "source": [
    "numerical_columns = numerical_columns.delete(0)\n",
    "print(numerical_columns)\n",
    "\n",
    "for numeric_feature in numerical_columns:\n",
    "    scaler = StandardScaler()\n",
    "    full_merged_set[numeric_feature] = scaler.fit_transform(full_merged_set[numeric_feature].values.reshape(-1,1))"
   ]
  },
  {
   "cell_type": "code",
   "execution_count": 9,
   "id": "2b9d688c",
   "metadata": {},
   "outputs": [],
   "source": [
    "encoder = LabelEncoder()\n",
    "for categoric_feature in categorical_columns:\n",
    "    full_merged_set[categoric_feature] = encoder.fit_transform(full_merged_set[categoric_feature].astype(str))"
   ]
  },
  {
   "cell_type": "code",
   "execution_count": 10,
   "id": "99b11271",
   "metadata": {},
   "outputs": [
    {
     "data": {
      "text/html": [
       "<div>\n",
       "<style scoped>\n",
       "    .dataframe tbody tr th:only-of-type {\n",
       "        vertical-align: middle;\n",
       "    }\n",
       "\n",
       "    .dataframe tbody tr th {\n",
       "        vertical-align: top;\n",
       "    }\n",
       "\n",
       "    .dataframe thead th {\n",
       "        text-align: right;\n",
       "    }\n",
       "</style>\n",
       "<table border=\"1\" class=\"dataframe\">\n",
       "  <thead>\n",
       "    <tr style=\"text-align: right;\">\n",
       "      <th></th>\n",
       "      <th>msno</th>\n",
       "      <th>song_id</th>\n",
       "      <th>source_system_tab</th>\n",
       "      <th>source_screen_name</th>\n",
       "      <th>source_type</th>\n",
       "      <th>target</th>\n",
       "      <th>city</th>\n",
       "      <th>bd</th>\n",
       "      <th>gender</th>\n",
       "      <th>registered_via</th>\n",
       "      <th>...</th>\n",
       "      <th>isrc_missing</th>\n",
       "      <th>artist_count</th>\n",
       "      <th>first_artist_name</th>\n",
       "      <th>is_featured</th>\n",
       "      <th>member_song_count</th>\n",
       "      <th>artist_song_count</th>\n",
       "      <th>genre_song_count</th>\n",
       "      <th>lang_song_count</th>\n",
       "      <th>song_member_count</th>\n",
       "      <th>age_song_count</th>\n",
       "    </tr>\n",
       "  </thead>\n",
       "  <tbody>\n",
       "    <tr>\n",
       "      <th>0</th>\n",
       "      <td>8158</td>\n",
       "      <td>74679</td>\n",
       "      <td>1</td>\n",
       "      <td>7</td>\n",
       "      <td>6</td>\n",
       "      <td>1</td>\n",
       "      <td>-0.980393</td>\n",
       "      <td>-1.108721</td>\n",
       "      <td>2</td>\n",
       "      <td>0.090489</td>\n",
       "      <td>...</td>\n",
       "      <td>0.0</td>\n",
       "      <td>-0.158441</td>\n",
       "      <td>3038</td>\n",
       "      <td>-0.045345</td>\n",
       "      <td>8.440964</td>\n",
       "      <td>-0.554517</td>\n",
       "      <td>-1.294634</td>\n",
       "      <td>-0.612945</td>\n",
       "      <td>-0.553361</td>\n",
       "      <td>1.227095</td>\n",
       "    </tr>\n",
       "    <tr>\n",
       "      <th>1</th>\n",
       "      <td>17259</td>\n",
       "      <td>223479</td>\n",
       "      <td>3</td>\n",
       "      <td>8</td>\n",
       "      <td>4</td>\n",
       "      <td>1</td>\n",
       "      <td>0.826394</td>\n",
       "      <td>0.430229</td>\n",
       "      <td>0</td>\n",
       "      <td>0.969311</td>\n",
       "      <td>...</td>\n",
       "      <td>0.0</td>\n",
       "      <td>-0.158441</td>\n",
       "      <td>30497</td>\n",
       "      <td>-0.045345</td>\n",
       "      <td>-0.050776</td>\n",
       "      <td>3.774785</td>\n",
       "      <td>-1.250797</td>\n",
       "      <td>-0.612945</td>\n",
       "      <td>-0.636409</td>\n",
       "      <td>-0.752320</td>\n",
       "    </tr>\n",
       "    <tr>\n",
       "      <th>2</th>\n",
       "      <td>17259</td>\n",
       "      <td>120758</td>\n",
       "      <td>3</td>\n",
       "      <td>8</td>\n",
       "      <td>4</td>\n",
       "      <td>1</td>\n",
       "      <td>0.826394</td>\n",
       "      <td>0.430229</td>\n",
       "      <td>0</td>\n",
       "      <td>0.969311</td>\n",
       "      <td>...</td>\n",
       "      <td>0.0</td>\n",
       "      <td>-0.158441</td>\n",
       "      <td>20364</td>\n",
       "      <td>-0.045345</td>\n",
       "      <td>-0.050776</td>\n",
       "      <td>-0.566702</td>\n",
       "      <td>-1.250797</td>\n",
       "      <td>-0.612945</td>\n",
       "      <td>-0.635245</td>\n",
       "      <td>-0.752320</td>\n",
       "    </tr>\n",
       "    <tr>\n",
       "      <th>3</th>\n",
       "      <td>17259</td>\n",
       "      <td>23707</td>\n",
       "      <td>3</td>\n",
       "      <td>8</td>\n",
       "      <td>4</td>\n",
       "      <td>1</td>\n",
       "      <td>0.826394</td>\n",
       "      <td>0.430229</td>\n",
       "      <td>0</td>\n",
       "      <td>0.969311</td>\n",
       "      <td>...</td>\n",
       "      <td>0.0</td>\n",
       "      <td>-0.158441</td>\n",
       "      <td>26165</td>\n",
       "      <td>-0.045345</td>\n",
       "      <td>-0.050776</td>\n",
       "      <td>-0.570825</td>\n",
       "      <td>-1.360764</td>\n",
       "      <td>-1.660930</td>\n",
       "      <td>-0.636409</td>\n",
       "      <td>-0.752320</td>\n",
       "    </tr>\n",
       "    <tr>\n",
       "      <th>4</th>\n",
       "      <td>8158</td>\n",
       "      <td>33308</td>\n",
       "      <td>1</td>\n",
       "      <td>7</td>\n",
       "      <td>6</td>\n",
       "      <td>1</td>\n",
       "      <td>-0.980393</td>\n",
       "      <td>-1.108721</td>\n",
       "      <td>2</td>\n",
       "      <td>0.090489</td>\n",
       "      <td>...</td>\n",
       "      <td>0.0</td>\n",
       "      <td>-0.158441</td>\n",
       "      <td>4154</td>\n",
       "      <td>-0.045345</td>\n",
       "      <td>8.440964</td>\n",
       "      <td>-0.564726</td>\n",
       "      <td>-1.340509</td>\n",
       "      <td>-0.612945</td>\n",
       "      <td>-0.476911</td>\n",
       "      <td>1.227095</td>\n",
       "    </tr>\n",
       "  </tbody>\n",
       "</table>\n",
       "<p>5 rows × 37 columns</p>\n",
       "</div>"
      ],
      "text/plain": [
       "    msno  song_id  source_system_tab  source_screen_name  source_type  target  \\\n",
       "0   8158    74679                  1                   7            6       1   \n",
       "1  17259   223479                  3                   8            4       1   \n",
       "2  17259   120758                  3                   8            4       1   \n",
       "3  17259    23707                  3                   8            4       1   \n",
       "4   8158    33308                  1                   7            6       1   \n",
       "\n",
       "       city        bd  gender  registered_via  ...  isrc_missing  \\\n",
       "0 -0.980393 -1.108721       2        0.090489  ...           0.0   \n",
       "1  0.826394  0.430229       0        0.969311  ...           0.0   \n",
       "2  0.826394  0.430229       0        0.969311  ...           0.0   \n",
       "3  0.826394  0.430229       0        0.969311  ...           0.0   \n",
       "4 -0.980393 -1.108721       2        0.090489  ...           0.0   \n",
       "\n",
       "   artist_count  first_artist_name  is_featured  member_song_count  \\\n",
       "0     -0.158441               3038    -0.045345           8.440964   \n",
       "1     -0.158441              30497    -0.045345          -0.050776   \n",
       "2     -0.158441              20364    -0.045345          -0.050776   \n",
       "3     -0.158441              26165    -0.045345          -0.050776   \n",
       "4     -0.158441               4154    -0.045345           8.440964   \n",
       "\n",
       "   artist_song_count  genre_song_count  lang_song_count  song_member_count  \\\n",
       "0          -0.554517         -1.294634        -0.612945          -0.553361   \n",
       "1           3.774785         -1.250797        -0.612945          -0.636409   \n",
       "2          -0.566702         -1.250797        -0.612945          -0.635245   \n",
       "3          -0.570825         -1.360764        -1.660930          -0.636409   \n",
       "4          -0.564726         -1.340509        -0.612945          -0.476911   \n",
       "\n",
       "   age_song_count  \n",
       "0        1.227095  \n",
       "1       -0.752320  \n",
       "2       -0.752320  \n",
       "3       -0.752320  \n",
       "4        1.227095  \n",
       "\n",
       "[5 rows x 37 columns]"
      ]
     },
     "execution_count": 10,
     "metadata": {},
     "output_type": "execute_result"
    }
   ],
   "source": [
    "full_merged_set.head()"
   ]
  },
  {
   "cell_type": "code",
   "execution_count": 11,
   "id": "30867ccd",
   "metadata": {},
   "outputs": [
    {
     "name": "stdout",
     "output_type": "stream",
     "text": [
      "<class 'pandas.core.frame.DataFrame'>\n",
      "RangeIndex: 7377418 entries, 0 to 7377417\n",
      "Data columns (total 37 columns):\n",
      " #   Column              Dtype  \n",
      "---  ------              -----  \n",
      " 0   msno                int32  \n",
      " 1   song_id             int32  \n",
      " 2   source_system_tab   int32  \n",
      " 3   source_screen_name  int32  \n",
      " 4   source_type         int32  \n",
      " 5   target              int64  \n",
      " 6   city                float64\n",
      " 7   bd                  float64\n",
      " 8   gender              int32  \n",
      " 9   registered_via      float64\n",
      " 10  song_length         float64\n",
      " 11  language            int32  \n",
      " 12  name                int32  \n",
      " 13  membership_days     float64\n",
      " 14  registration_year   float64\n",
      " 15  registration_month  float64\n",
      " 16  registration_day    float64\n",
      " 17  expiration_year     float64\n",
      " 18  expiration_month    float64\n",
      " 19  expiration_day      float64\n",
      " 20  first_genre_id      float64\n",
      " 21  second_genre_id     float64\n",
      " 22  third_genre_id      float64\n",
      " 23  genre_ids_count     float64\n",
      " 24  song_year           int32  \n",
      " 25  country_code        int32  \n",
      " 26  registration_code   int32  \n",
      " 27  isrc_missing        float64\n",
      " 28  artist_count        float64\n",
      " 29  first_artist_name   int32  \n",
      " 30  is_featured         float64\n",
      " 31  member_song_count   float64\n",
      " 32  artist_song_count   float64\n",
      " 33  genre_song_count    float64\n",
      " 34  lang_song_count     float64\n",
      " 35  song_member_count   float64\n",
      " 36  age_song_count      float64\n",
      "dtypes: float64(24), int32(12), int64(1)\n",
      "memory usage: 1.7 GB\n"
     ]
    }
   ],
   "source": [
    "full_merged_set.info()"
   ]
  },
  {
   "cell_type": "code",
   "execution_count": 12,
   "id": "0737d218",
   "metadata": {},
   "outputs": [
    {
     "name": "stdout",
     "output_type": "stream",
     "text": [
      "Shape of training dataset is:  (4721547, 36)\n",
      "Shape of validation dataset is:  (1180387, 36)\n",
      "Shape of test dataset is:  (1475484, 36)\n"
     ]
    }
   ],
   "source": [
    "# split up the train and test data targets \n",
    "# split the training data into a training set and validation set (80-20 split)\n",
    "\n",
    "X = full_merged_set.drop(['target'], axis=1)\n",
    "y = full_merged_set['target']\n",
    "\n",
    "# Train & Test Split\n",
    "X_train_full, X_test, y_train_full, y_test = train_test_split(X, y, test_size=0.2, random_state=1)\n",
    "\n",
    "# Now split the training set into training and validation\n",
    "X_train, X_val, y_train, y_val = train_test_split(X_train_full, y_train_full, test_size=0.2, random_state=1)\n",
    "\n",
    "\n",
    "print('Shape of training dataset is: ', X_train.shape)\n",
    "print('Shape of validation dataset is: ', X_val.shape)\n",
    "print('Shape of test dataset is: ', X_test.shape)"
   ]
  },
  {
   "cell_type": "code",
   "execution_count": 13,
   "id": "04b85bd7",
   "metadata": {},
   "outputs": [],
   "source": [
    "# clean up unnecessary data frames \n",
    "del full_merged_set\n",
    "del X_train_full\n",
    "del y_train_full"
   ]
  },
  {
   "cell_type": "code",
   "execution_count": 14,
   "id": "7c80abc5",
   "metadata": {},
   "outputs": [],
   "source": [
    "# sample our training data for our initial model fiting, really large data sets take large CPU and extended time to fit\n",
    "# the dataset is too big for our RAM limitations and processing time, need to sample the dataset\n",
    "import random\n",
    "random.seed(130)\n",
    "idx = random.sample(range(0,X_train.shape[0]), 300000)\n",
    "X_train_sample = X_train.iloc[idx]\n",
    "y_train_sample = y_train.iloc[idx]"
   ]
  },
  {
   "cell_type": "code",
   "execution_count": 15,
   "id": "840baf6b",
   "metadata": {},
   "outputs": [
    {
     "data": {
      "text/plain": [
       "RandomForestClassifier(n_jobs=-1, random_state=1)"
      ]
     },
     "execution_count": 15,
     "metadata": {},
     "output_type": "execute_result"
    }
   ],
   "source": [
    "# Initial Model fitting with 100 estimators and all CPUs used \n",
    "start_time = time.time()\n",
    "rf = RandomForestClassifier(n_estimators=100, oob_score=False, random_state=1 ,n_jobs=-1)\n",
    "rf.fit(X_train_sample, y_train_sample)"
   ]
  },
  {
   "cell_type": "code",
   "execution_count": 16,
   "id": "22b9f3da",
   "metadata": {},
   "outputs": [
    {
     "name": "stdout",
     "output_type": "stream",
     "text": [
      "--- 20.11375880241394 seconds ---\n",
      "--- 0.33522931337356565 minutes ---\n"
     ]
    }
   ],
   "source": [
    "end_time = time.time()\n",
    "print(\"--- %s seconds ---\" % (end_time - start_time))\n",
    "print(\"--- %s minutes ---\" % ((end_time - start_time)/60))"
   ]
  },
  {
   "cell_type": "code",
   "execution_count": 17,
   "id": "703b5b14",
   "metadata": {},
   "outputs": [
    {
     "name": "stdout",
     "output_type": "stream",
     "text": [
      "Mean accuracy score on validation data set: 0.6709\n"
     ]
    }
   ],
   "source": [
    "# Initial Model accuracy on validation preditions \n",
    "start_time = time.time()\n",
    "predicted = rf.predict(X_val)\n",
    "accuracy = accuracy_score(y_val, predicted)\n",
    "print(f'Mean accuracy score on validation data set: {accuracy:.4}')"
   ]
  },
  {
   "cell_type": "code",
   "execution_count": 18,
   "id": "23212808",
   "metadata": {},
   "outputs": [
    {
     "name": "stdout",
     "output_type": "stream",
     "text": [
      "--- 11.742425441741943 seconds ---\n",
      "--- 0.19570709069569905 minutes ---\n"
     ]
    }
   ],
   "source": [
    "end_time = time.time()\n",
    "print(\"--- %s seconds ---\" % (end_time - start_time))\n",
    "print(\"--- %s minutes ---\" % ((end_time - start_time)/60))"
   ]
  },
  {
   "cell_type": "code",
   "execution_count": 19,
   "id": "4ed7bd96",
   "metadata": {},
   "outputs": [
    {
     "name": "stdout",
     "output_type": "stream",
     "text": [
      "Mean accuracy score on test data set: 0.6708\n"
     ]
    }
   ],
   "source": [
    "# Initial Model accuracy on test preditions\n",
    "start_time = time.time()\n",
    "predicted = rf.predict(X_test)\n",
    "accuracy = accuracy_score(y_test, predicted)\n",
    "print(f'Mean accuracy score on test data set: {accuracy:.4}')"
   ]
  },
  {
   "cell_type": "code",
   "execution_count": 20,
   "id": "671ba323",
   "metadata": {},
   "outputs": [
    {
     "name": "stdout",
     "output_type": "stream",
     "text": [
      "--- 14.718248844146729 seconds ---\n",
      "--- 0.24530414740244547 minutes ---\n"
     ]
    }
   ],
   "source": [
    "end_time = time.time()\n",
    "print(\"--- %s seconds ---\" % (end_time - start_time))\n",
    "print(\"--- %s minutes ---\" % ((end_time - start_time)/60))"
   ]
  },
  {
   "cell_type": "code",
   "execution_count": 21,
   "id": "27f3e5de",
   "metadata": {},
   "outputs": [
    {
     "data": {
      "text/html": [
       "<div>\n",
       "<style scoped>\n",
       "    .dataframe tbody tr th:only-of-type {\n",
       "        vertical-align: middle;\n",
       "    }\n",
       "\n",
       "    .dataframe tbody tr th {\n",
       "        vertical-align: top;\n",
       "    }\n",
       "\n",
       "    .dataframe thead th {\n",
       "        text-align: right;\n",
       "    }\n",
       "</style>\n",
       "<table border=\"1\" class=\"dataframe\">\n",
       "  <thead>\n",
       "    <tr style=\"text-align: right;\">\n",
       "      <th></th>\n",
       "      <th>cols</th>\n",
       "      <th>imp</th>\n",
       "    </tr>\n",
       "  </thead>\n",
       "  <tbody>\n",
       "    <tr>\n",
       "      <th>34</th>\n",
       "      <td>song_member_count</td>\n",
       "      <td>0.074533</td>\n",
       "    </tr>\n",
       "    <tr>\n",
       "      <th>30</th>\n",
       "      <td>member_song_count</td>\n",
       "      <td>0.067532</td>\n",
       "    </tr>\n",
       "    <tr>\n",
       "      <th>0</th>\n",
       "      <td>msno</td>\n",
       "      <td>0.059089</td>\n",
       "    </tr>\n",
       "    <tr>\n",
       "      <th>12</th>\n",
       "      <td>membership_days</td>\n",
       "      <td>0.056366</td>\n",
       "    </tr>\n",
       "    <tr>\n",
       "      <th>1</th>\n",
       "      <td>song_id</td>\n",
       "      <td>0.050265</td>\n",
       "    </tr>\n",
       "    <tr>\n",
       "      <th>9</th>\n",
       "      <td>song_length</td>\n",
       "      <td>0.050209</td>\n",
       "    </tr>\n",
       "    <tr>\n",
       "      <th>11</th>\n",
       "      <td>name</td>\n",
       "      <td>0.049761</td>\n",
       "    </tr>\n",
       "    <tr>\n",
       "      <th>31</th>\n",
       "      <td>artist_song_count</td>\n",
       "      <td>0.047073</td>\n",
       "    </tr>\n",
       "    <tr>\n",
       "      <th>15</th>\n",
       "      <td>registration_day</td>\n",
       "      <td>0.046152</td>\n",
       "    </tr>\n",
       "    <tr>\n",
       "      <th>18</th>\n",
       "      <td>expiration_day</td>\n",
       "      <td>0.043335</td>\n",
       "    </tr>\n",
       "  </tbody>\n",
       "</table>\n",
       "</div>"
      ],
      "text/plain": [
       "                 cols       imp\n",
       "34  song_member_count  0.074533\n",
       "30  member_song_count  0.067532\n",
       "0                msno  0.059089\n",
       "12    membership_days  0.056366\n",
       "1             song_id  0.050265\n",
       "9         song_length  0.050209\n",
       "11               name  0.049761\n",
       "31  artist_song_count  0.047073\n",
       "15   registration_day  0.046152\n",
       "18     expiration_day  0.043335"
      ]
     },
     "execution_count": 21,
     "metadata": {},
     "output_type": "execute_result"
    }
   ],
   "source": [
    "# Analyze model for feature importance and selection\n",
    "# helper function to generate features and their imporatnce in the RF model\n",
    "def rf_feat_importance(model, data):\n",
    "    return pd.DataFrame({'cols':data.columns, \n",
    "                         'imp':model.feature_importances_}).sort_values('imp', ascending=False)\n",
    "\n",
    "feature_importance = rf_feat_importance(rf, X_train_sample); feature_importance[:10]"
   ]
  },
  {
   "cell_type": "code",
   "execution_count": 22,
   "id": "171dcdeb",
   "metadata": {},
   "outputs": [
    {
     "data": {
      "image/png": "[encoded data removed]",
      "text/plain": [
       "<Figure size 1200x700 with 1 Axes>"
      ]
     },
     "metadata": {},
     "output_type": "display_data"
    }
   ],
   "source": [
    "# plot the feature features and their imporatnce in the RF model\n",
    "# helper function to plot\n",
    "def plot_feature_importance(fi):\n",
    "    return fi.plot('cols', 'imp', 'barh', figsize=(12,7), legend=False)\n",
    "\n",
    "plot_feature_importance(feature_importance[:30]);"
   ]
  },
  {
   "cell_type": "code",
   "execution_count": 23,
   "id": "ed104a56",
   "metadata": {},
   "outputs": [],
   "source": [
    "# We can see that 'song_member_count' and 'member_song_count' have the highest importance. \n",
    "# They both indiciate when a user repeats speficic song or when a song is repeated by specific users.\n",
    "# There are several features with less than a 0.015 importance. Removing some of these features will help \n",
    "# imporove the impurity of the trees. "
   ]
  },
  {
   "cell_type": "code",
   "execution_count": 24,
   "id": "5f0ece07",
   "metadata": {},
   "outputs": [
    {
     "data": {
      "text/plain": [
       "22"
      ]
     },
     "execution_count": 24,
     "metadata": {},
     "output_type": "execute_result"
    }
   ],
   "source": [
    "# remove the features wity importance less than 0.015\n",
    "features_to_keep = feature_importance[feature_importance.imp > 0.015].cols; len(features_to_keep)"
   ]
  },
  {
   "cell_type": "code",
   "execution_count": 25,
   "id": "a9059d0f",
   "metadata": {},
   "outputs": [
    {
     "name": "stdout",
     "output_type": "stream",
     "text": [
      "Shape of training sample dataset is:  (300000, 22)\n",
      "Shape of validation dataset is:  (1180387, 22)\n",
      "Shape of test dataset is:  (1475484, 22)\n",
      "Shape of training dataset is:  (4721547, 22)\n"
     ]
    }
   ],
   "source": [
    "# we're keeping 22 of the features, dropping the rest\n",
    "X_train_sample = X_train_sample[features_to_keep]\n",
    "X_val = X_val[features_to_keep]\n",
    "X_test = X_test[features_to_keep]\n",
    "X_train = X_train[features_to_keep]\n",
    "\n",
    "print('Shape of training sample dataset is: ', X_train_sample.shape)\n",
    "print('Shape of validation dataset is: ', X_val.shape)\n",
    "print('Shape of test dataset is: ', X_test.shape)\n",
    "print('Shape of training dataset is: ', X_train.shape)"
   ]
  },
  {
   "cell_type": "code",
   "execution_count": 27,
   "id": "33238674",
   "metadata": {},
   "outputs": [],
   "source": [
    "# get rid of the initial Random Forest Model\n",
    "del rf"
   ]
  },
  {
   "cell_type": "code",
   "execution_count": 29,
   "id": "319e427b",
   "metadata": {
    "scrolled": false
   },
   "outputs": [
    {
     "name": "stdout",
     "output_type": "stream",
     "text": [
      "Fitting 5 folds for each of 24 candidates, totalling 120 fits\n",
      "[CV] END clf__max_features=sqrt, clf__min_samples_split=2, clf__n_estimators=50; total time=   9.1s\n",
      "[CV] END clf__max_features=sqrt, clf__min_samples_split=2, clf__n_estimators=50; total time=   8.0s\n",
      "[CV] END clf__max_features=sqrt, clf__min_samples_split=2, clf__n_estimators=50; total time=   8.8s\n",
      "[CV] END clf__max_features=sqrt, clf__min_samples_split=2, clf__n_estimators=50; total time=   8.4s\n",
      "[CV] END clf__max_features=sqrt, clf__min_samples_split=2, clf__n_estimators=50; total time=   8.3s\n",
      "[CV] END clf__max_features=sqrt, clf__min_samples_split=2, clf__n_estimators=100; total time=  15.4s\n",
      "[CV] END clf__max_features=sqrt, clf__min_samples_split=2, clf__n_estimators=100; total time=  15.2s\n",
      "[CV] END clf__max_features=sqrt, clf__min_samples_split=2, clf__n_estimators=100; total time=  15.4s\n",
      "[CV] END clf__max_features=sqrt, clf__min_samples_split=2, clf__n_estimators=100; total time=  16.2s\n",
      "[CV] END clf__max_features=sqrt, clf__min_samples_split=2, clf__n_estimators=100; total time=  15.8s\n",
      "[CV] END clf__max_features=sqrt, clf__min_samples_split=2, clf__n_estimators=150; total time=  24.2s\n",
      "[CV] END clf__max_features=sqrt, clf__min_samples_split=2, clf__n_estimators=150; total time=  24.9s\n",
      "[CV] END clf__max_features=sqrt, clf__min_samples_split=2, clf__n_estimators=150; total time=  25.2s\n",
      "[CV] END clf__max_features=sqrt, clf__min_samples_split=2, clf__n_estimators=150; total time=  25.4s\n",
      "[CV] END clf__max_features=sqrt, clf__min_samples_split=2, clf__n_estimators=150; total time=  25.6s\n",
      "[CV] END clf__max_features=sqrt, clf__min_samples_split=2, clf__n_estimators=200; total time=  34.5s\n",
      "[CV] END clf__max_features=sqrt, clf__min_samples_split=2, clf__n_estimators=200; total time=  33.8s\n",
      "[CV] END clf__max_features=sqrt, clf__min_samples_split=2, clf__n_estimators=200; total time=  34.1s\n",
      "[CV] END clf__max_features=sqrt, clf__min_samples_split=2, clf__n_estimators=200; total time=  33.8s\n",
      "[CV] END clf__max_features=sqrt, clf__min_samples_split=2, clf__n_estimators=200; total time=  33.3s\n",
      "[CV] END clf__max_features=sqrt, clf__min_samples_split=10, clf__n_estimators=50; total time=   8.3s\n",
      "[CV] END clf__max_features=sqrt, clf__min_samples_split=10, clf__n_estimators=50; total time=   8.1s\n",
      "[CV] END clf__max_features=sqrt, clf__min_samples_split=10, clf__n_estimators=50; total time=   8.3s\n",
      "[CV] END clf__max_features=sqrt, clf__min_samples_split=10, clf__n_estimators=50; total time=   8.2s\n",
      "[CV] END clf__max_features=sqrt, clf__min_samples_split=10, clf__n_estimators=50; total time=   8.2s\n",
      "[CV] END clf__max_features=sqrt, clf__min_samples_split=10, clf__n_estimators=100; total time=  15.8s\n",
      "[CV] END clf__max_features=sqrt, clf__min_samples_split=10, clf__n_estimators=100; total time=  16.0s\n",
      "[CV] END clf__max_features=sqrt, clf__min_samples_split=10, clf__n_estimators=100; total time=  16.1s\n",
      "[CV] END clf__max_features=sqrt, clf__min_samples_split=10, clf__n_estimators=100; total time=  16.0s\n",
      "[CV] END clf__max_features=sqrt, clf__min_samples_split=10, clf__n_estimators=100; total time=  16.0s\n",
      "[CV] END clf__max_features=sqrt, clf__min_samples_split=10, clf__n_estimators=150; total time=  23.8s\n",
      "[CV] END clf__max_features=sqrt, clf__min_samples_split=10, clf__n_estimators=150; total time=  23.6s\n",
      "[CV] END clf__max_features=sqrt, clf__min_samples_split=10, clf__n_estimators=150; total time=  23.2s\n",
      "[CV] END clf__max_features=sqrt, clf__min_samples_split=10, clf__n_estimators=150; total time=  23.2s\n",
      "[CV] END clf__max_features=sqrt, clf__min_samples_split=10, clf__n_estimators=150; total time=  23.3s\n",
      "[CV] END clf__max_features=sqrt, clf__min_samples_split=10, clf__n_estimators=200; total time=  31.0s\n",
      "[CV] END clf__max_features=sqrt, clf__min_samples_split=10, clf__n_estimators=200; total time=  30.9s\n",
      "[CV] END clf__max_features=sqrt, clf__min_samples_split=10, clf__n_estimators=200; total time=  31.5s\n",
      "[CV] END clf__max_features=sqrt, clf__min_samples_split=10, clf__n_estimators=200; total time=  31.3s\n",
      "[CV] END clf__max_features=sqrt, clf__min_samples_split=10, clf__n_estimators=200; total time=  31.0s\n",
      "[CV] END clf__max_features=sqrt, clf__min_samples_split=20, clf__n_estimators=50; total time=   8.0s\n",
      "[CV] END clf__max_features=sqrt, clf__min_samples_split=20, clf__n_estimators=50; total time=   7.8s\n",
      "[CV] END clf__max_features=sqrt, clf__min_samples_split=20, clf__n_estimators=50; total time=   7.8s\n",
      "[CV] END clf__max_features=sqrt, clf__min_samples_split=20, clf__n_estimators=50; total time=   7.9s\n",
      "[CV] END clf__max_features=sqrt, clf__min_samples_split=20, clf__n_estimators=50; total time=   7.8s\n",
      "[CV] END clf__max_features=sqrt, clf__min_samples_split=20, clf__n_estimators=100; total time=  16.9s\n",
      "[CV] END clf__max_features=sqrt, clf__min_samples_split=20, clf__n_estimators=100; total time=  15.1s\n",
      "[CV] END clf__max_features=sqrt, clf__min_samples_split=20, clf__n_estimators=100; total time=  15.2s\n",
      "[CV] END clf__max_features=sqrt, clf__min_samples_split=20, clf__n_estimators=100; total time=  16.9s\n",
      "[CV] END clf__max_features=sqrt, clf__min_samples_split=20, clf__n_estimators=100; total time=  15.4s\n",
      "[CV] END clf__max_features=sqrt, clf__min_samples_split=20, clf__n_estimators=150; total time=  22.5s\n",
      "[CV] END clf__max_features=sqrt, clf__min_samples_split=20, clf__n_estimators=150; total time=  22.1s\n",
      "[CV] END clf__max_features=sqrt, clf__min_samples_split=20, clf__n_estimators=150; total time=  22.2s\n",
      "[CV] END clf__max_features=sqrt, clf__min_samples_split=20, clf__n_estimators=150; total time=  22.2s\n",
      "[CV] END clf__max_features=sqrt, clf__min_samples_split=20, clf__n_estimators=150; total time=  22.1s\n",
      "[CV] END clf__max_features=sqrt, clf__min_samples_split=20, clf__n_estimators=200; total time=  30.6s\n",
      "[CV] END clf__max_features=sqrt, clf__min_samples_split=20, clf__n_estimators=200; total time=  29.4s\n",
      "[CV] END clf__max_features=sqrt, clf__min_samples_split=20, clf__n_estimators=200; total time=  29.6s\n",
      "[CV] END clf__max_features=sqrt, clf__min_samples_split=20, clf__n_estimators=200; total time=  29.6s\n",
      "[CV] END clf__max_features=sqrt, clf__min_samples_split=20, clf__n_estimators=200; total time=  29.6s\n",
      "[CV] END clf__max_features=log2, clf__min_samples_split=2, clf__n_estimators=50; total time=   8.8s\n",
      "[CV] END clf__max_features=log2, clf__min_samples_split=2, clf__n_estimators=50; total time=   8.8s\n",
      "[CV] END clf__max_features=log2, clf__min_samples_split=2, clf__n_estimators=50; total time=   9.1s\n",
      "[CV] END clf__max_features=log2, clf__min_samples_split=2, clf__n_estimators=50; total time=   8.9s\n",
      "[CV] END clf__max_features=log2, clf__min_samples_split=2, clf__n_estimators=50; total time=   8.8s\n",
      "[CV] END clf__max_features=log2, clf__min_samples_split=2, clf__n_estimators=100; total time=  17.1s\n",
      "[CV] END clf__max_features=log2, clf__min_samples_split=2, clf__n_estimators=100; total time=  17.3s\n",
      "[CV] END clf__max_features=log2, clf__min_samples_split=2, clf__n_estimators=100; total time=  17.3s\n",
      "[CV] END clf__max_features=log2, clf__min_samples_split=2, clf__n_estimators=100; total time=  17.3s\n",
      "[CV] END clf__max_features=log2, clf__min_samples_split=2, clf__n_estimators=100; total time=  17.1s\n",
      "[CV] END clf__max_features=log2, clf__min_samples_split=2, clf__n_estimators=150; total time=  25.3s\n",
      "[CV] END clf__max_features=log2, clf__min_samples_split=2, clf__n_estimators=150; total time=  25.5s\n",
      "[CV] END clf__max_features=log2, clf__min_samples_split=2, clf__n_estimators=150; total time=  25.4s\n",
      "[CV] END clf__max_features=log2, clf__min_samples_split=2, clf__n_estimators=150; total time=  25.3s\n",
      "[CV] END clf__max_features=log2, clf__min_samples_split=2, clf__n_estimators=150; total time=  25.1s\n",
      "[CV] END clf__max_features=log2, clf__min_samples_split=2, clf__n_estimators=200; total time=  33.6s\n",
      "[CV] END clf__max_features=log2, clf__min_samples_split=2, clf__n_estimators=200; total time=  34.6s\n",
      "[CV] END clf__max_features=log2, clf__min_samples_split=2, clf__n_estimators=200; total time=  38.7s\n",
      "[CV] END clf__max_features=log2, clf__min_samples_split=2, clf__n_estimators=200; total time=  33.7s\n",
      "[CV] END clf__max_features=log2, clf__min_samples_split=2, clf__n_estimators=200; total time=  33.7s\n",
      "[CV] END clf__max_features=log2, clf__min_samples_split=10, clf__n_estimators=50; total time=   8.3s\n"
     ]
    },
    {
     "name": "stdout",
     "output_type": "stream",
     "text": [
      "[CV] END clf__max_features=log2, clf__min_samples_split=10, clf__n_estimators=50; total time=   8.2s\n",
      "[CV] END clf__max_features=log2, clf__min_samples_split=10, clf__n_estimators=50; total time=   8.3s\n",
      "[CV] END clf__max_features=log2, clf__min_samples_split=10, clf__n_estimators=50; total time=   9.2s\n",
      "[CV] END clf__max_features=log2, clf__min_samples_split=10, clf__n_estimators=50; total time=   9.1s\n",
      "[CV] END clf__max_features=log2, clf__min_samples_split=10, clf__n_estimators=100; total time=  15.9s\n",
      "[CV] END clf__max_features=log2, clf__min_samples_split=10, clf__n_estimators=100; total time=  15.8s\n",
      "[CV] END clf__max_features=log2, clf__min_samples_split=10, clf__n_estimators=100; total time=  16.0s\n",
      "[CV] END clf__max_features=log2, clf__min_samples_split=10, clf__n_estimators=100; total time=  15.9s\n",
      "[CV] END clf__max_features=log2, clf__min_samples_split=10, clf__n_estimators=100; total time=  15.9s\n",
      "[CV] END clf__max_features=log2, clf__min_samples_split=10, clf__n_estimators=150; total time=  23.7s\n",
      "[CV] END clf__max_features=log2, clf__min_samples_split=10, clf__n_estimators=150; total time=  23.8s\n",
      "[CV] END clf__max_features=log2, clf__min_samples_split=10, clf__n_estimators=150; total time=  23.8s\n",
      "[CV] END clf__max_features=log2, clf__min_samples_split=10, clf__n_estimators=150; total time=  23.8s\n",
      "[CV] END clf__max_features=log2, clf__min_samples_split=10, clf__n_estimators=150; total time=  23.8s\n",
      "[CV] END clf__max_features=log2, clf__min_samples_split=10, clf__n_estimators=200; total time=  31.9s\n",
      "[CV] END clf__max_features=log2, clf__min_samples_split=10, clf__n_estimators=200; total time=  32.1s\n",
      "[CV] END clf__max_features=log2, clf__min_samples_split=10, clf__n_estimators=200; total time=  31.6s\n",
      "[CV] END clf__max_features=log2, clf__min_samples_split=10, clf__n_estimators=200; total time=  31.6s\n",
      "[CV] END clf__max_features=log2, clf__min_samples_split=10, clf__n_estimators=200; total time=  30.9s\n",
      "[CV] END clf__max_features=log2, clf__min_samples_split=20, clf__n_estimators=50; total time=   8.1s\n",
      "[CV] END clf__max_features=log2, clf__min_samples_split=20, clf__n_estimators=50; total time=   8.0s\n",
      "[CV] END clf__max_features=log2, clf__min_samples_split=20, clf__n_estimators=50; total time=   8.3s\n",
      "[CV] END clf__max_features=log2, clf__min_samples_split=20, clf__n_estimators=50; total time=   7.8s\n",
      "[CV] END clf__max_features=log2, clf__min_samples_split=20, clf__n_estimators=50; total time=   7.8s\n",
      "[CV] END clf__max_features=log2, clf__min_samples_split=20, clf__n_estimators=100; total time=  15.1s\n",
      "[CV] END clf__max_features=log2, clf__min_samples_split=20, clf__n_estimators=100; total time=  15.0s\n",
      "[CV] END clf__max_features=log2, clf__min_samples_split=20, clf__n_estimators=100; total time=  15.1s\n",
      "[CV] END clf__max_features=log2, clf__min_samples_split=20, clf__n_estimators=100; total time=  15.0s\n",
      "[CV] END clf__max_features=log2, clf__min_samples_split=20, clf__n_estimators=100; total time=  14.9s\n",
      "[CV] END clf__max_features=log2, clf__min_samples_split=20, clf__n_estimators=150; total time=  22.3s\n",
      "[CV] END clf__max_features=log2, clf__min_samples_split=20, clf__n_estimators=150; total time=  22.3s\n",
      "[CV] END clf__max_features=log2, clf__min_samples_split=20, clf__n_estimators=150; total time=  22.4s\n",
      "[CV] END clf__max_features=log2, clf__min_samples_split=20, clf__n_estimators=150; total time=  22.4s\n",
      "[CV] END clf__max_features=log2, clf__min_samples_split=20, clf__n_estimators=150; total time=  22.4s\n",
      "[CV] END clf__max_features=log2, clf__min_samples_split=20, clf__n_estimators=200; total time=  29.7s\n",
      "[CV] END clf__max_features=log2, clf__min_samples_split=20, clf__n_estimators=200; total time=  29.5s\n",
      "[CV] END clf__max_features=log2, clf__min_samples_split=20, clf__n_estimators=200; total time=  29.6s\n",
      "[CV] END clf__max_features=log2, clf__min_samples_split=20, clf__n_estimators=200; total time=  29.6s\n",
      "[CV] END clf__max_features=log2, clf__min_samples_split=20, clf__n_estimators=200; total time=  29.5s\n",
      "Time taken for hyper parameter tuning is : 2447.15962433815 seconds\n",
      "Time taken for hyper parameter tuning is : 40.78599373896917 minutes\n"
     ]
    }
   ],
   "source": [
    "# Hyperparameter tuning: we will utilize the Pipeline and GridSearchCV to find the best fitting model\n",
    "from sklearn.pipeline import Pipeline\n",
    "\n",
    "start_time = time.time()\n",
    "pipeline_rf_clf = Pipeline([('clf', RandomForestClassifier(n_jobs=-1))]) \n",
    "\n",
    "grid_params = dict(clf__n_estimators = [50,100,150,200],\n",
    "                  clf__max_features = ['sqrt', 'log2'],\n",
    "                  clf__min_samples_split = [2,10,20])\n",
    "# n_estimators: # of trees in the forest  \n",
    "# max_features: # of features to consider when looking for the best split\n",
    "# min_samples_split: minimum number of samples required to split an internal node\n",
    "# criterion: defaulted to \"gini\", function to measure the quality of a split\n",
    "\n",
    "gs_model_clf = GridSearchCV(estimator=pipeline_rf_clf,  \n",
    "                  param_grid=grid_params,\n",
    "                  scoring='accuracy',\n",
    "                  verbose=2,\n",
    "                  cv=5)\n",
    "\n",
    "gs_model_clf.fit(X_train_sample, y_train_sample)\n",
    "\n",
    "print('Time taken for hyper parameter tuning is : %s seconds' % (time.time() -  start_time) )\n",
    "print('Time taken for hyper parameter tuning is : %s minutes' % ((time.time() -  start_time)/60))"
   ]
  },
  {
   "cell_type": "code",
   "execution_count": 30,
   "id": "1c818292",
   "metadata": {},
   "outputs": [
    {
     "name": "stdout",
     "output_type": "stream",
     "text": [
      "Pipeline(steps=[('clf',\n",
      "                 RandomForestClassifier(max_features='log2', n_estimators=200,\n",
      "                                        n_jobs=-1))])\n"
     ]
    }
   ],
   "source": [
    "# show the best estimator out of all the cross validation model fits\n",
    "print(gs_model_clf.best_estimator_)"
   ]
  },
  {
   "cell_type": "code",
   "execution_count": 31,
   "id": "3ae672cb",
   "metadata": {},
   "outputs": [
    {
     "data": {
      "text/plain": [
       "RandomForestClassifier(max_features='log2', n_estimators=200, n_jobs=-1)"
      ]
     },
     "execution_count": 31,
     "metadata": {},
     "output_type": "execute_result"
    }
   ],
   "source": [
    "# show all specific parameters for the model\n",
    "gs_model_clf.best_estimator_.get_params()['clf']"
   ]
  },
  {
   "cell_type": "code",
   "execution_count": 32,
   "id": "90987bd9",
   "metadata": {},
   "outputs": [
    {
     "name": "stdout",
     "output_type": "stream",
     "text": [
      "Train data set Accuracy Score =  0.6939954214159045\n",
      "Talidation data set Accuracy Score =  0.673056378967237\n"
     ]
    }
   ],
   "source": [
    "print('Train data set Accuracy Score = ', gs_model_clf.score(X_train, y_train))\n",
    "print('Talidation data set Accuracy Score = ', gs_model_clf.score(X_val, y_val))"
   ]
  },
  {
   "cell_type": "code",
   "execution_count": 33,
   "id": "f2edae0c",
   "metadata": {},
   "outputs": [],
   "source": [
    "# delete the hyper paramter tuning Pipeline and GridSeachCV to save memory for next RandomForestClassifier\n",
    "del gs_model_clf\n",
    "del pipeline_rf_clf"
   ]
  },
  {
   "cell_type": "code",
   "execution_count": 34,
   "id": "c02ffcd7",
   "metadata": {},
   "outputs": [
    {
     "data": {
      "text/plain": [
       "RandomForestClassifier(max_features='log2', n_estimators=200, n_jobs=-1)"
      ]
     },
     "execution_count": 34,
     "metadata": {},
     "output_type": "execute_result"
    }
   ],
   "source": [
    "# build and train the model from the best estimator cross validation\n",
    "# all hyper-parameters not listed are default values\n",
    "rf_model = RandomForestClassifier(n_estimators=200, n_jobs=-1, max_features='log2')\n",
    "\n",
    "start_time = time.time()\n",
    "\n",
    "rf_model.fit(X_train, y_train)"
   ]
  },
  {
   "cell_type": "code",
   "execution_count": 35,
   "id": "a636d2d8",
   "metadata": {},
   "outputs": [
    {
     "name": "stdout",
     "output_type": "stream",
     "text": [
      "--- 1345.163304567337 seconds ---\n",
      "--- 22.419388409455618 minutes ---\n"
     ]
    }
   ],
   "source": [
    "end_time = time.time()\n",
    "print(\"--- %s seconds ---\" % (end_time - start_time))\n",
    "print(\"--- %s minutes ---\" % ((end_time - start_time)/60))"
   ]
  },
  {
   "cell_type": "code",
   "execution_count": 36,
   "id": "467036ad",
   "metadata": {},
   "outputs": [
    {
     "name": "stdout",
     "output_type": "stream",
     "text": [
      "--- 56.815898180007935 seconds ---\n",
      "--- 0.9469316363334656 minutes ---\n",
      "Mean accuracy score validation data: 0.7425\n"
     ]
    }
   ],
   "source": [
    "# predict after model has been trained on validation data and get accuracy\n",
    "start_time = time.time()\n",
    "\n",
    "predicted = rf_model.predict(X_val)\n",
    "accuracy = accuracy_score(y_val, predicted)\n",
    "end_time = time.time()\n",
    "print(\"--- %s seconds ---\" % (end_time - start_time))\n",
    "print(\"--- %s minutes ---\" % ((end_time - start_time)/60))\n",
    "print(f'Mean accuracy score validation data: {accuracy:.4}')"
   ]
  },
  {
   "cell_type": "code",
   "execution_count": 37,
   "id": "c927af47",
   "metadata": {},
   "outputs": [
    {
     "name": "stdout",
     "output_type": "stream",
     "text": [
      "--- 87.51936292648315 seconds ---\n",
      "--- 1.4586560487747193 minutes ---\n",
      "Mean accuracy score validation data: 0.7428\n"
     ]
    }
   ],
   "source": [
    "# predict after model has been trained on test data and get accuracy\n",
    "start_time = time.time()\n",
    "\n",
    "predicted = rf_model.predict(X_test)\n",
    "accuracy = accuracy_score(y_test, predicted)\n",
    "end_time = time.time()\n",
    "print(\"--- %s seconds ---\" % (end_time - start_time))\n",
    "print(\"--- %s minutes ---\" % ((end_time - start_time)/60))\n",
    "print(f'Mean accuracy score validation data: {accuracy:.4}')"
   ]
  },
  {
   "cell_type": "code",
   "execution_count": 38,
   "id": "264ee89a",
   "metadata": {},
   "outputs": [
    {
     "name": "stdout",
     "output_type": "stream",
     "text": [
      "              precision    recall  f1-score   support\n",
      "\n",
      "           0       0.75      0.73      0.74    732119\n",
      "           1       0.74      0.76      0.75    743365\n",
      "\n",
      "    accuracy                           0.74   1475484\n",
      "   macro avg       0.74      0.74      0.74   1475484\n",
      "weighted avg       0.74      0.74      0.74   1475484\n",
      "\n"
     ]
    }
   ],
   "source": [
    "# we have a very good increase to 74.3% accuracy on our test data\n",
    "print(classification_report(y_test, predicted))"
   ]
  },
  {
   "cell_type": "code",
   "execution_count": 39,
   "id": "21195f6c",
   "metadata": {},
   "outputs": [
    {
     "data": {
      "text/plain": [
       "Text(0.5, 1.0, 'Random Forest Classifier Confusion Matrix, Test Data Predicted')"
      ]
     },
     "execution_count": 39,
     "metadata": {},
     "output_type": "execute_result"
    },
    {
     "data": {
      "image/png": "[encoded data removed]",
      "text/plain": [
       "<Figure size 640x480 with 2 Axes>"
      ]
     },
     "metadata": {},
     "output_type": "display_data"
    }
   ],
   "source": [
    "# print a heatmap of the confusion matrix\n",
    "conf_matr = confusion_matrix(y_test, predicted)\n",
    "sns.heatmap(conf_matr, annot=True,fmt='d').set_title('Random Forest Classifier Confusion Matrix, Test Data Predicted')"
   ]
  },
  {
   "cell_type": "code",
   "execution_count": 40,
   "id": "875f68e2",
   "metadata": {},
   "outputs": [
    {
     "name": "stdout",
     "output_type": "stream",
     "text": [
      "--- 65.83007168769836 seconds ---\n",
      "--- 1.0971678614616394 minutes ---\n"
     ]
    }
   ],
   "source": [
    "# Predict probability for ROC curve\n",
    "start_time = time.time()\n",
    "\n",
    "predicted = rf_model.predict_proba(X_test)\n",
    "end_time = time.time()\n",
    "print(\"--- %s seconds ---\" % (end_time - start_time))\n",
    "print(\"--- %s minutes ---\" % ((end_time - start_time)/60))"
   ]
  },
  {
   "cell_type": "code",
   "execution_count": 41,
   "id": "409f495a",
   "metadata": {},
   "outputs": [
    {
     "data": {
      "image/png": "[encoded data removed]",
      "text/plain": [
       "<Figure size 640x480 with 1 Axes>"
      ]
     },
     "metadata": {},
     "output_type": "display_data"
    }
   ],
   "source": [
    "# plot the ROC curve for our test data and predited values\n",
    "false_positive_rate, true_positive_rate, thresholds = roc_curve(\n",
    "    y_test, [i[1] for i in predicted])\n",
    "roc_auc = auc(false_positive_rate, true_positive_rate)\n",
    "\n",
    "plt.title('Receiver Operating Characteristic')\n",
    "plt.plot(false_positive_rate, true_positive_rate, \n",
    "         'b',label='AUC = %0.2f'% roc_auc)\n",
    "plt.legend(loc='lower right')\n",
    "plt.plot([0,1],[0,1],'r--')\n",
    "plt.xlim([0,1])\n",
    "plt.ylim([0,1])\n",
    "plt.ylabel('True Positive Rate')\n",
    "plt.xlabel('False Positive Rate')\n",
    "plt.show()"
   ]
  },
  {
   "cell_type": "code",
   "execution_count": null,
   "id": "9c16ed5d",
   "metadata": {},
   "outputs": [],
   "source": []
  }
 ],
 "metadata": {
  "kernelspec": {
   "display_name": "Python 3 (ipykernel)",
   "language": "python",
   "name": "python3"
  },
  "language_info": {
   "codemirror_mode": {
    "name": "ipython",
    "version": 3
   },
   "file_extension": ".py",
   "mimetype": "text/x-python",
   "name": "python",
   "nbconvert_exporter": "python",
   "pygments_lexer": "ipython3",
   "version": "3.9.13"
  }
 },
 "nbformat": 4,
 "nbformat_minor": 5
}
